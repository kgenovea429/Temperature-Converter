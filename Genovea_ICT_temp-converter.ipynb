{
 "cells": [
  {
   "cell_type": "code",
   "execution_count": null,
   "id": "0e20738f-4264-49ca-8abe-78a4b1d77173",
   "metadata": {},
   "outputs": [
    {
     "name": "stdout",
     "output_type": "stream",
     "text": [
      "TEMPERATURE CONVERTER\n"
     ]
    }
   ],
   "source": [
    "print(\"TEMPERATURE CONVERTER\")\n",
    "\n",
    "\n",
    "unit = input(\"Enter the unit (Celsius, Fahrenheit, Kelvin, or Rankine): \").strip().lower()\n",
    "temp = float(input(\"Enter the temperature: \"))\n",
    "\n",
    "if unit == \"celsius\":\n",
    "    kelvin = round(temp + 273.15, 1)\n",
    "    fahrenheit = round((temp * 9/5) + 32, 1)\n",
    "    rankine = round((temp + 273.15) * 9/5, 1)\n",
    "    print(f\"\\nKelvin: {kelvin} °K\")\n",
    "    print(f\"Fahrenheit: {fahrenheit} °F\")\n",
    "    print(f\"Rankine: {rankine} °R\")\n",
    "\n",
    "elif unit == \"fahrenheit\":\n",
    "    celsius = round((temp - 32) * 5/9, 1)\n",
    "    kelvin = round((temp + 459.67) * 5/9, 1)\n",
    "    rankine = round(temp + 459.67, 1)\n",
    "    print(f\"\\nCelsius: {celsius} °C\")\n",
    "    print(f\"Kelvin: {kelvin} °K\")\n",
    "    print(f\"Rankine: {rankine} °R\")\n",
    "    \n",
    "elif unit == \"kelvin\":\n",
    "    celsius = round(temp - 273.15, 1)\n",
    "    fahrenheit = round((temp * 9/5) - 459.67, 1)\n",
    "    rankine = round(temp * 9/5, 1)\n",
    "    print(f\"\\nCelsius: {celsius} °C\")\n",
    "    print(f\"Fahrenheit: {fahrenheit} °F\")\n",
    "    print(f\"Rankine: {rankine} °R\")\n",
    "\n",
    "elif unit == \"rankine\":\n",
    "    celsius = round((temp - 491.67) * 5/9, 1)\n",
    "    kelvin = round(temp * 5/9, 1)\n",
    "    fahrenheit = round(temp - 459.67, 1)\n",
    "    print(f\"\\nCelsius: {celsius} °C\")\n",
    "    print(f\"Kelvin: {kelvin} °K\")\n",
    "    print(f\"Fahrenheit: {fahrenheit} °F\")\n",
    "\n",
    "else: \n",
    "    print(\"Invalid unit. Please enter Celsius, Fahrenheit, Kelvin, or Rankine.\")\n",
    "    "
   ]
  }
 ],
 "metadata": {
  "kernelspec": {
   "display_name": "Python 3 (ipykernel)",
   "language": "python",
   "name": "python3"
  },
  "language_info": {
   "codemirror_mode": {
    "name": "ipython",
    "version": 3
   },
   "file_extension": ".py",
   "mimetype": "text/x-python",
   "name": "python",
   "nbconvert_exporter": "python",
   "pygments_lexer": "ipython3",
   "version": "3.12.7"
  }
 },
 "nbformat": 4,
 "nbformat_minor": 5
}
